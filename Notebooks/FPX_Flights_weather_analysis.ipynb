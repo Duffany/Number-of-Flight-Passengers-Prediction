{
 "cells": [
  {
   "cell_type": "markdown",
   "metadata": {},
   "source": [
    "# We need to answer the first following questions"
   ]
  },
  {
   "cell_type": "markdown",
   "metadata": {},
   "source": [
    "* Data Distribution\n",
    "* Pair visualisation (avg weeks vs Target, std weeks vs Target, mean Target grouped by Airport, mean Target grouped by path, grouped by date information)\n",
    "* Pair visualisation_weather (Weather_data_columns vs target by (destination_airport, arrival_airport))"
   ]
  },
  {
   "cell_type": "code",
   "execution_count": null,
   "metadata": {},
   "outputs": [],
   "source": [
    " "
   ]
  }
 ],
 "metadata": {
  "language_info": {
   "name": "python"
  },
  "orig_nbformat": 4
 },
 "nbformat": 4,
 "nbformat_minor": 2
}
