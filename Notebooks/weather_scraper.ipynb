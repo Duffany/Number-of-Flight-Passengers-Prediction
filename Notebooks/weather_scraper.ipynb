{
 "cells": [
  {
   "cell_type": "markdown",
   "metadata": {},
   "source": [
    "##### Maybe we'll need to collect other few weather columns like visibility (https://github.com/ekapope/WorldWeatherOnline)"
   ]
  },
  {
   "cell_type": "markdown",
   "metadata": {},
   "source": [
    "# Weather data using meteo stat package"
   ]
  },
  {
   "cell_type": "code",
   "execution_count": 1,
   "metadata": {},
   "outputs": [],
   "source": [
    "import pandas as pd\n",
    "import numpy as np\n",
    "import warnings\n",
    "warnings.filterwarnings('ignore')\n",
    "sys.path.append('../scripts')\n",
    "from feature_transform import scrap_weather\n",
    "from datetime import datetime\n",
    "from meteostat import Stations, Daily, Point"
   ]
  },
  {
   "cell_type": "markdown",
   "metadata": {},
   "source": [
    "# collecting weather data for each airport within X_train time range"
   ]
  },
  {
   "cell_type": "code",
   "execution_count": 2,
   "metadata": {},
   "outputs": [],
   "source": [
    "flights = pd.read_csv('../data/flights_train.csv',\n",
    "                      parse_dates=['flight_date'\n",
    "                      ]).reset_index(drop=True)\n",
    "url = \\\n",
    "    'https://raw.githubusercontent.com/ravisurdhar/flight_delays/master/airports.csv'\n",
    "us_airports = pd.read_csv(url)\n"
   ]
  },
  {
   "cell_type": "code",
   "execution_count": 155,
   "metadata": {},
   "outputs": [],
   "source": [
    "airports = np.unique(np.append(flights['from'].unique(), flights['to'\n",
    "                     ].unique()))\n",
    "airport_localisation = us_airports[us_airports['IATA_CODE'\n",
    "                                   ].isin(airports)]\n"
   ]
  },
  {
   "cell_type": "code",
   "execution_count": 150,
   "metadata": {},
   "outputs": [],
   "source": [
    "lats = airport_localisation['LATITUDE'].tolist()\n",
    "longs = airport_localisation['LONGITUDE'].tolist()\n",
    "iatas = airports.tolist()\n",
    "list_geo = list(zip(lats, longs))\n",
    "iatas = airports.tolist()\n",
    "list_data = []\n",
    "\n",
    "for i in range(len(list_geo)):\n",
    "    point = Point(list_geo[i][0], list_geo[i][1])\n",
    "    start = datetime(2011, 9, 1)\n",
    "    end = datetime(2012, 11, 14)\n",
    "    data = Daily(point, start, end)\n",
    "    df = data.fetch()\n",
    "    df = df.drop(labels=['snow', 'wdir', 'wpgt', 'pres', 'tsun'],\n",
    "                 axis=1)\n",
    "    list_data.append(df.reset_index())\n",
    "\n",
    "weather_data = pd.concat(list_data, axis=0)\n"
   ]
  },
  {
   "cell_type": "code",
   "execution_count": 151,
   "metadata": {},
   "outputs": [],
   "source": [
    "iatas_repeated = [iata for iata in iatas for i in\n",
    "                  range(list_data[0].shape[0])]\n",
    "weather_data['airport_code'] = iatas_repeated\n"
   ]
  },
  {
   "cell_type": "code",
   "execution_count": 147,
   "metadata": {},
   "outputs": [],
   "source": [
    "weather_data.to_csv('../data/weather_data.csv')"
   ]
  },
  {
   "cell_type": "code",
   "execution_count": 171,
   "metadata": {},
   "outputs": [
    {
     "data": {
      "text/html": [
       "<div>\n",
       "<style scoped>\n",
       "    .dataframe tbody tr th:only-of-type {\n",
       "        vertical-align: middle;\n",
       "    }\n",
       "\n",
       "    .dataframe tbody tr th {\n",
       "        vertical-align: top;\n",
       "    }\n",
       "\n",
       "    .dataframe thead th {\n",
       "        text-align: right;\n",
       "    }\n",
       "</style>\n",
       "<table border=\"1\" class=\"dataframe\">\n",
       "  <thead>\n",
       "    <tr style=\"text-align: right;\">\n",
       "      <th></th>\n",
       "      <th>time</th>\n",
       "      <th>tavg</th>\n",
       "      <th>tmin</th>\n",
       "      <th>tmax</th>\n",
       "      <th>prcp</th>\n",
       "      <th>wspd</th>\n",
       "      <th>airport_code</th>\n",
       "    </tr>\n",
       "  </thead>\n",
       "  <tbody>\n",
       "    <tr>\n",
       "      <th>0</th>\n",
       "      <td>2011-09-01</td>\n",
       "      <td>27.8</td>\n",
       "      <td>21.7</td>\n",
       "      <td>33.9</td>\n",
       "      <td>0.0</td>\n",
       "      <td>4.0</td>\n",
       "      <td>ATL</td>\n",
       "    </tr>\n",
       "    <tr>\n",
       "      <th>1</th>\n",
       "      <td>2011-09-02</td>\n",
       "      <td>27.1</td>\n",
       "      <td>19.4</td>\n",
       "      <td>35.0</td>\n",
       "      <td>0.0</td>\n",
       "      <td>3.5</td>\n",
       "      <td>ATL</td>\n",
       "    </tr>\n",
       "    <tr>\n",
       "      <th>2</th>\n",
       "      <td>2011-09-03</td>\n",
       "      <td>27.7</td>\n",
       "      <td>20.6</td>\n",
       "      <td>35.0</td>\n",
       "      <td>0.0</td>\n",
       "      <td>5.6</td>\n",
       "      <td>ATL</td>\n",
       "    </tr>\n",
       "    <tr>\n",
       "      <th>3</th>\n",
       "      <td>2011-09-04</td>\n",
       "      <td>23.7</td>\n",
       "      <td>20.6</td>\n",
       "      <td>26.7</td>\n",
       "      <td>6.1</td>\n",
       "      <td>4.4</td>\n",
       "      <td>ATL</td>\n",
       "    </tr>\n",
       "    <tr>\n",
       "      <th>4</th>\n",
       "      <td>2011-09-05</td>\n",
       "      <td>23.7</td>\n",
       "      <td>22.2</td>\n",
       "      <td>25.6</td>\n",
       "      <td>16.0</td>\n",
       "      <td>10.8</td>\n",
       "      <td>ATL</td>\n",
       "    </tr>\n",
       "    <tr>\n",
       "      <th>...</th>\n",
       "      <td>...</td>\n",
       "      <td>...</td>\n",
       "      <td>...</td>\n",
       "      <td>...</td>\n",
       "      <td>...</td>\n",
       "      <td>...</td>\n",
       "      <td>...</td>\n",
       "    </tr>\n",
       "    <tr>\n",
       "      <th>436</th>\n",
       "      <td>2012-11-10</td>\n",
       "      <td>11.6</td>\n",
       "      <td>8.9</td>\n",
       "      <td>15.0</td>\n",
       "      <td>0.0</td>\n",
       "      <td>16.9</td>\n",
       "      <td>SFO</td>\n",
       "    </tr>\n",
       "    <tr>\n",
       "      <th>437</th>\n",
       "      <td>2012-11-11</td>\n",
       "      <td>10.6</td>\n",
       "      <td>6.1</td>\n",
       "      <td>15.6</td>\n",
       "      <td>0.0</td>\n",
       "      <td>3.6</td>\n",
       "      <td>SFO</td>\n",
       "    </tr>\n",
       "    <tr>\n",
       "      <th>438</th>\n",
       "      <td>2012-11-12</td>\n",
       "      <td>11.5</td>\n",
       "      <td>6.1</td>\n",
       "      <td>17.2</td>\n",
       "      <td>0.0</td>\n",
       "      <td>5.0</td>\n",
       "      <td>SFO</td>\n",
       "    </tr>\n",
       "    <tr>\n",
       "      <th>439</th>\n",
       "      <td>2012-11-13</td>\n",
       "      <td>13.5</td>\n",
       "      <td>8.3</td>\n",
       "      <td>18.3</td>\n",
       "      <td>0.0</td>\n",
       "      <td>4.3</td>\n",
       "      <td>SFO</td>\n",
       "    </tr>\n",
       "    <tr>\n",
       "      <th>440</th>\n",
       "      <td>2012-11-14</td>\n",
       "      <td>14.6</td>\n",
       "      <td>10.0</td>\n",
       "      <td>20.0</td>\n",
       "      <td>0.0</td>\n",
       "      <td>5.8</td>\n",
       "      <td>SFO</td>\n",
       "    </tr>\n",
       "  </tbody>\n",
       "</table>\n",
       "<p>8820 rows × 7 columns</p>\n",
       "</div>"
      ],
      "text/plain": [
       "          time  tavg  tmin  tmax  prcp  wspd airport_code\n",
       "0   2011-09-01  27.8  21.7  33.9   0.0   4.0          ATL\n",
       "1   2011-09-02  27.1  19.4  35.0   0.0   3.5          ATL\n",
       "2   2011-09-03  27.7  20.6  35.0   0.0   5.6          ATL\n",
       "3   2011-09-04  23.7  20.6  26.7   6.1   4.4          ATL\n",
       "4   2011-09-05  23.7  22.2  25.6  16.0  10.8          ATL\n",
       "..         ...   ...   ...   ...   ...   ...          ...\n",
       "436 2012-11-10  11.6   8.9  15.0   0.0  16.9          SFO\n",
       "437 2012-11-11  10.6   6.1  15.6   0.0   3.6          SFO\n",
       "438 2012-11-12  11.5   6.1  17.2   0.0   5.0          SFO\n",
       "439 2012-11-13  13.5   8.3  18.3   0.0   4.3          SFO\n",
       "440 2012-11-14  14.6  10.0  20.0   0.0   5.8          SFO\n",
       "\n",
       "[8820 rows x 7 columns]"
      ]
     },
     "execution_count": 171,
     "metadata": {},
     "output_type": "execute_result"
    }
   ],
   "source": [
    "weather_data"
   ]
  }
 ],
 "metadata": {
  "interpreter": {
   "hash": "dda3661be42a90c2914851a902f8bf069f8a45cb7c52ba55eec2e345667c0672"
  },
  "kernelspec": {
   "display_name": "Python 3",
   "language": "python",
   "name": "python3"
  },
  "language_info": {
   "codemirror_mode": {
    "name": "ipython",
    "version": 3
   },
   "file_extension": ".py",
   "mimetype": "text/x-python",
   "name": "python",
   "nbconvert_exporter": "python",
   "pygments_lexer": "ipython3",
   "version": "3.9.7"
  }
 },
 "nbformat": 4,
 "nbformat_minor": 2
}
