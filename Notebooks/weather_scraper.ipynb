{
 "cells": [
  {
   "cell_type": "code",
   "execution_count": 139,
   "metadata": {},
   "outputs": [],
   "source": [
    "import pandas as pd\n",
    "import numpy as np\n",
    "import warnings\n",
    "warnings.filterwarnings('ignore')\n",
    "\n",
    "from datetime import datetime\n",
    "from meteostat import Stations, Daily, Point"
   ]
  },
  {
   "cell_type": "code",
   "execution_count": 148,
   "metadata": {},
   "outputs": [],
   "source": [
    "flights = pd.read_csv('../data/flights_train.csv', \n",
    "                      parse_dates = ['flight_date']).reset_index(drop=True)\n",
    "\n",
    "url=\"https://raw.githubusercontent.com/ravisurdhar/flight_delays/master/airports.csv\"\n",
    "us_airports=pd.read_csv(url)"
   ]
  },
  {
   "cell_type": "code",
   "execution_count": 149,
   "metadata": {},
   "outputs": [],
   "source": [
    "airports = np.unique((np.append(flights['from'].unique(), flights['to'].unique())))\n",
    "airport_localisation = us_airports[us_airports['IATA_CODE'].isin(airports)]"
   ]
  },
  {
   "cell_type": "code",
   "execution_count": 150,
   "metadata": {},
   "outputs": [],
   "source": [
    "lats = airport_localisation['LATITUDE'].tolist()\n",
    "longs = airport_localisation['LONGITUDE'].tolist()\n",
    "iatas = airports.tolist()\n",
    "list_geo = list(zip(lats,longs))\n",
    "iatas = airports.tolist()\n",
    "list_data=[]\n",
    "\n",
    "for i in range(len(list_geo)):\n",
    "    point = Point(list_geo[i][0], list_geo[i][1])\n",
    "    start = datetime(2011, 9, 1)\n",
    "    end = datetime(2012, 11, 14)\n",
    "    data = Daily(point, start, end)\n",
    "    df = data.fetch()\n",
    "    df = df.drop(labels=['snow', 'wdir', 'wpgt', 'pres', 'tsun'], axis=1)\n",
    "    list_data.append(df.reset_index())\n",
    "\n",
    "weather_data = pd.concat(list_data, axis=0)"
   ]
  },
  {
   "cell_type": "code",
   "execution_count": 151,
   "metadata": {},
   "outputs": [],
   "source": [
    "iatas_repeated = [iata for iata in iatas for i in range(list_data[0].shape[0])]\n",
    "weather_data['airport_code'] = iatas_repeated"
   ]
  },
  {
   "cell_type": "code",
   "execution_count": 147,
   "metadata": {},
   "outputs": [],
   "source": [
    "weather_data.to_csv('../data/weather_data.csv')"
   ]
  }
 ],
 "metadata": {
  "interpreter": {
   "hash": "dda3661be42a90c2914851a902f8bf069f8a45cb7c52ba55eec2e345667c0672"
  },
  "kernelspec": {
   "display_name": "Python 3",
   "language": "python",
   "name": "python3"
  },
  "language_info": {
   "codemirror_mode": {
    "name": "ipython",
    "version": 3
   },
   "file_extension": ".py",
   "mimetype": "text/x-python",
   "name": "python",
   "nbconvert_exporter": "python",
   "pygments_lexer": "ipython3",
   "version": "3.8.0"
  }
 },
 "nbformat": 4,
 "nbformat_minor": 2
}
